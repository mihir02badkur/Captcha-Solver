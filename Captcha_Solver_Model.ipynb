{
  "cells": [
    {
      "cell_type": "code",
      "execution_count": null,
      "metadata": {
        "id": "pvhmBiypRRPS"
      },
      "outputs": [],
      "source": [
        "# Imports\n",
        "import matplotlib.pyplot as plt\n",
        "import cv2\n",
        "import numpy as np\n",
        "from keras.models import Sequential\n",
        "from tensorflow.keras.optimizers import SGD, Adam\n",
        "from keras.callbacks import ReduceLROnPlateau, EarlyStopping\n",
        "from tensorflow.keras.utils import to_categorical\n",
        "import pandas as pd\n",
        "import numpy as np\n",
        "from sklearn.model_selection import train_test_split\n",
        "from sklearn.utils import shuffle\n",
        "from google.colab import drive\n",
        "from tensorflow.keras.models import load_model\n",
        "from tensorflow.keras.layers import Dense, Flatten, Conv2D,MaxPool2D, Dropout, BatchNormalization, GlobalAveragePooling2D\n",
        "from tensorflow.keras.preprocessing.image import ImageDataGenerator\n",
        "from tensorflow.keras.callbacks import ModelCheckpoint"
      ]
    },
    {
      "cell_type": "code",
      "execution_count": null,
      "metadata": {
        "id": "mEK2XSzAdt2V",
        "colab": {
          "base_uri": "https://localhost:8080/"
        },
        "outputId": "da822b63-b013-409f-bc02-cbb97cbb6eaa"
      },
      "outputs": [
        {
          "output_type": "stream",
          "name": "stdout",
          "text": [
            "Drive already mounted at /content/drive; to attempt to forcibly remount, call drive.mount(\"/content/drive\", force_remount=True).\n"
          ]
        }
      ],
      "source": [
        "drive.mount(\"/content/drive\")"
      ]
    },
    {
      "cell_type": "code",
      "execution_count": null,
      "metadata": {
        "id": "7pFKKhBpTQUo",
        "colab": {
          "base_uri": "https://localhost:8080/"
        },
        "outputId": "3e4dd9c7-4943-41ab-bb3f-04ca961ee463"
      },
      "outputs": [
        {
          "output_type": "stream",
          "name": "stdout",
          "text": [
            "       0      1      2      3      4      5      6      7      8      9  ...  \\\n",
            "0  255.0  255.0  255.0  255.0  255.0  255.0  255.0  255.0  255.0  255.0  ...   \n",
            "1  255.0  255.0  255.0  255.0  255.0  255.0  255.0  255.0  255.0  255.0  ...   \n",
            "2  255.0  255.0  255.0  255.0  255.0  255.0  255.0  255.0  255.0  255.0  ...   \n",
            "3  255.0  255.0  255.0  255.0  255.0  255.0  255.0  255.0  255.0  255.0  ...   \n",
            "4  255.0  255.0  255.0  255.0  255.0  255.0  255.0  255.0  255.0  255.0  ...   \n",
            "5  255.0  255.0  255.0  255.0  255.0  255.0  255.0  255.0  255.0  255.0  ...   \n",
            "6  255.0  255.0  255.0  255.0  255.0  255.0  255.0  255.0  255.0  255.0  ...   \n",
            "7  255.0  255.0  255.0  255.0  255.0  255.0  255.0  255.0  255.0  255.0  ...   \n",
            "8  255.0  255.0  255.0  255.0  255.0  255.0  255.0  255.0  255.0  255.0  ...   \n",
            "9  255.0  255.0  255.0  255.0  255.0  255.0  255.0  255.0  255.0  255.0  ...   \n",
            "\n",
            "     775    776    777    778    779    780    781    782    783  Label  \n",
            "0  255.0  255.0  255.0  255.0  255.0  255.0  255.0  255.0  255.0   36.0  \n",
            "1  255.0  255.0  255.0  255.0  255.0  255.0  255.0  255.0  255.0   43.0  \n",
            "2  255.0  255.0  255.0  255.0  255.0  255.0  255.0  255.0  255.0   15.0  \n",
            "3  255.0  255.0  255.0  255.0  255.0  255.0  255.0  255.0  255.0   42.0  \n",
            "4  255.0  255.0  255.0  255.0  255.0  255.0  255.0  255.0  255.0   26.0  \n",
            "5  255.0  255.0  255.0  255.0  255.0  255.0  255.0  255.0  255.0   32.0  \n",
            "6  255.0  255.0  255.0  255.0  255.0  255.0  255.0  255.0  255.0   20.0  \n",
            "7  255.0  255.0  255.0  255.0  255.0  255.0  255.0  255.0  255.0   46.0  \n",
            "8  255.0  255.0  255.0  255.0  255.0  255.0  255.0  255.0  255.0   43.0  \n",
            "9  255.0  255.0  255.0  255.0  255.0  255.0  255.0  255.0  255.0   15.0  \n",
            "\n",
            "[10 rows x 785 columns]\n"
          ]
        }
      ],
      "source": [
        "# Reading the Dataset\n",
        "data = pd.read_csv(\"/content/drive/My Drive/Mosaic ps1 datasets/Dataset 3.csv\").astype('float32')\n",
        "print(data.head(10))"
      ]
    },
    {
      "cell_type": "code",
      "source": [
        "# Dropping characters\n",
        "drop_rows = [11, 12, 16, 18, 19, 20, 21, 22, 24, 26, 31, 32, 33, 34, 37, 40, 41, 44]\n",
        "data = data[data['Label'].isin(drop_rows) == False]\n",
        "data.index= range(len(data))"
      ],
      "metadata": {
        "id": "vMOZnij0rpBh"
      },
      "execution_count": null,
      "outputs": []
    },
    {
      "cell_type": "code",
      "source": [
        "data['Label'].value_counts()"
      ],
      "metadata": {
        "id": "ArftL93dstdx",
        "colab": {
          "base_uri": "https://localhost:8080/"
        },
        "outputId": "fefcbf96-fbd5-4a64-c367-02b381add7d0"
      },
      "execution_count": null,
      "outputs": [
        {
          "output_type": "execute_result",
          "data": {
            "text/plain": [
              "5.0     2600\n",
              "7.0     2550\n",
              "6.0     2550\n",
              "4.0     2550\n",
              "2.0     2550\n",
              "3.0     2500\n",
              "1.0     2450\n",
              "43.0    2400\n",
              "27.0    2400\n",
              "10.0    2400\n",
              "39.0    2400\n",
              "38.0    2400\n",
              "36.0    2400\n",
              "23.0    2400\n",
              "28.0    2400\n",
              "35.0    2400\n",
              "25.0    2400\n",
              "29.0    2400\n",
              "14.0    2400\n",
              "17.0    2400\n",
              "13.0    2400\n",
              "46.0    2400\n",
              "42.0    2400\n",
              "15.0    2400\n",
              "30.0    2400\n",
              "45.0    2399\n",
              "Name: Label, dtype: int64"
            ]
          },
          "metadata": {},
          "execution_count": 44
        }
      ]
    },
    {
      "cell_type": "code",
      "source": [
        "# Creating dictionary for all characters left\n",
        "dic = {1: 0,2: 1, 3: 2, 4: 3, 5: 4, 6: 5, 7: 6,10: 7,13: 8,14: 9,15: 10,17: 11,23: 12,25: 13,27: 14,28: 15,29: 16,30: 17, 35: 18,36: 19,38: 20,39: 21,42: 22,43: 23,45: 24,46: 25}\n",
        "data['Label']=data['Label'].map(dic)"
      ],
      "metadata": {
        "id": "wc5158HZ3cGN"
      },
      "execution_count": null,
      "outputs": []
    },
    {
      "cell_type": "code",
      "execution_count": null,
      "metadata": {
        "id": "-yfoiJX-Tv2F",
        "colab": {
          "base_uri": "https://localhost:8080/",
          "height": 423
        },
        "outputId": "3d5597f5-72d5-47b8-e08b-256eef2f2318"
      },
      "outputs": [
        {
          "output_type": "execute_result",
          "data": {
            "text/plain": [
              "           0      1      2      3      4      5      6      7      8      9  \\\n",
              "0      255.0  255.0  255.0  255.0  255.0  255.0  255.0  255.0  255.0  255.0   \n",
              "1      255.0  255.0  255.0  255.0  255.0  255.0  255.0  255.0  255.0  255.0   \n",
              "2      255.0  255.0  255.0  255.0  255.0  255.0  255.0  255.0  255.0  255.0   \n",
              "3      255.0  255.0  255.0  255.0  255.0  255.0  255.0  255.0  255.0  255.0   \n",
              "4      255.0  255.0  255.0  255.0  255.0  255.0  255.0  255.0  255.0  255.0   \n",
              "...      ...    ...    ...    ...    ...    ...    ...    ...    ...    ...   \n",
              "63344  255.0  255.0  255.0  255.0  255.0  255.0  255.0  255.0  255.0  255.0   \n",
              "63345  255.0  255.0  255.0  255.0  255.0  255.0  255.0  255.0  255.0  255.0   \n",
              "63346  255.0  255.0  255.0  255.0  255.0  255.0  255.0  255.0  255.0  255.0   \n",
              "63347  255.0  255.0  255.0  255.0  255.0  255.0  255.0  255.0  255.0  255.0   \n",
              "63348  255.0  255.0  255.0  255.0  255.0  255.0  255.0  255.0  255.0  255.0   \n",
              "\n",
              "       ...    774    775    776    777    778    779    780    781    782  \\\n",
              "0      ...  255.0  255.0  255.0  255.0  255.0  255.0  255.0  255.0  255.0   \n",
              "1      ...  255.0  255.0  255.0  255.0  255.0  255.0  255.0  255.0  255.0   \n",
              "2      ...  255.0  255.0  255.0  255.0  255.0  255.0  255.0  255.0  255.0   \n",
              "3      ...  255.0  255.0  255.0  255.0  255.0  255.0  255.0  255.0  255.0   \n",
              "4      ...  255.0  255.0  255.0  255.0  255.0  255.0  255.0  255.0  255.0   \n",
              "...    ...    ...    ...    ...    ...    ...    ...    ...    ...    ...   \n",
              "63344  ...  255.0  255.0  255.0  255.0  255.0  255.0  255.0  255.0  255.0   \n",
              "63345  ...  255.0  255.0  255.0  255.0  255.0  255.0  255.0  255.0  255.0   \n",
              "63346  ...  255.0  255.0  255.0  255.0  255.0  255.0  255.0  255.0  255.0   \n",
              "63347  ...  255.0  255.0  255.0  255.0  255.0  255.0  255.0  255.0  255.0   \n",
              "63348  ...  255.0  255.0  255.0  255.0  255.0  255.0  255.0  255.0  255.0   \n",
              "\n",
              "         783  \n",
              "0      255.0  \n",
              "1      255.0  \n",
              "2      255.0  \n",
              "3      255.0  \n",
              "4      255.0  \n",
              "...      ...  \n",
              "63344  255.0  \n",
              "63345  255.0  \n",
              "63346  255.0  \n",
              "63347  255.0  \n",
              "63348  255.0  \n",
              "\n",
              "[63349 rows x 784 columns]"
            ],
            "text/html": [
              "\n",
              "  <div id=\"df-ce904b51-360f-4b36-bcee-76b3eea2f6f2\">\n",
              "    <div class=\"colab-df-container\">\n",
              "      <div>\n",
              "<style scoped>\n",
              "    .dataframe tbody tr th:only-of-type {\n",
              "        vertical-align: middle;\n",
              "    }\n",
              "\n",
              "    .dataframe tbody tr th {\n",
              "        vertical-align: top;\n",
              "    }\n",
              "\n",
              "    .dataframe thead th {\n",
              "        text-align: right;\n",
              "    }\n",
              "</style>\n",
              "<table border=\"1\" class=\"dataframe\">\n",
              "  <thead>\n",
              "    <tr style=\"text-align: right;\">\n",
              "      <th></th>\n",
              "      <th>0</th>\n",
              "      <th>1</th>\n",
              "      <th>2</th>\n",
              "      <th>3</th>\n",
              "      <th>4</th>\n",
              "      <th>5</th>\n",
              "      <th>6</th>\n",
              "      <th>7</th>\n",
              "      <th>8</th>\n",
              "      <th>9</th>\n",
              "      <th>...</th>\n",
              "      <th>774</th>\n",
              "      <th>775</th>\n",
              "      <th>776</th>\n",
              "      <th>777</th>\n",
              "      <th>778</th>\n",
              "      <th>779</th>\n",
              "      <th>780</th>\n",
              "      <th>781</th>\n",
              "      <th>782</th>\n",
              "      <th>783</th>\n",
              "    </tr>\n",
              "  </thead>\n",
              "  <tbody>\n",
              "    <tr>\n",
              "      <th>0</th>\n",
              "      <td>255.0</td>\n",
              "      <td>255.0</td>\n",
              "      <td>255.0</td>\n",
              "      <td>255.0</td>\n",
              "      <td>255.0</td>\n",
              "      <td>255.0</td>\n",
              "      <td>255.0</td>\n",
              "      <td>255.0</td>\n",
              "      <td>255.0</td>\n",
              "      <td>255.0</td>\n",
              "      <td>...</td>\n",
              "      <td>255.0</td>\n",
              "      <td>255.0</td>\n",
              "      <td>255.0</td>\n",
              "      <td>255.0</td>\n",
              "      <td>255.0</td>\n",
              "      <td>255.0</td>\n",
              "      <td>255.0</td>\n",
              "      <td>255.0</td>\n",
              "      <td>255.0</td>\n",
              "      <td>255.0</td>\n",
              "    </tr>\n",
              "    <tr>\n",
              "      <th>1</th>\n",
              "      <td>255.0</td>\n",
              "      <td>255.0</td>\n",
              "      <td>255.0</td>\n",
              "      <td>255.0</td>\n",
              "      <td>255.0</td>\n",
              "      <td>255.0</td>\n",
              "      <td>255.0</td>\n",
              "      <td>255.0</td>\n",
              "      <td>255.0</td>\n",
              "      <td>255.0</td>\n",
              "      <td>...</td>\n",
              "      <td>255.0</td>\n",
              "      <td>255.0</td>\n",
              "      <td>255.0</td>\n",
              "      <td>255.0</td>\n",
              "      <td>255.0</td>\n",
              "      <td>255.0</td>\n",
              "      <td>255.0</td>\n",
              "      <td>255.0</td>\n",
              "      <td>255.0</td>\n",
              "      <td>255.0</td>\n",
              "    </tr>\n",
              "    <tr>\n",
              "      <th>2</th>\n",
              "      <td>255.0</td>\n",
              "      <td>255.0</td>\n",
              "      <td>255.0</td>\n",
              "      <td>255.0</td>\n",
              "      <td>255.0</td>\n",
              "      <td>255.0</td>\n",
              "      <td>255.0</td>\n",
              "      <td>255.0</td>\n",
              "      <td>255.0</td>\n",
              "      <td>255.0</td>\n",
              "      <td>...</td>\n",
              "      <td>255.0</td>\n",
              "      <td>255.0</td>\n",
              "      <td>255.0</td>\n",
              "      <td>255.0</td>\n",
              "      <td>255.0</td>\n",
              "      <td>255.0</td>\n",
              "      <td>255.0</td>\n",
              "      <td>255.0</td>\n",
              "      <td>255.0</td>\n",
              "      <td>255.0</td>\n",
              "    </tr>\n",
              "    <tr>\n",
              "      <th>3</th>\n",
              "      <td>255.0</td>\n",
              "      <td>255.0</td>\n",
              "      <td>255.0</td>\n",
              "      <td>255.0</td>\n",
              "      <td>255.0</td>\n",
              "      <td>255.0</td>\n",
              "      <td>255.0</td>\n",
              "      <td>255.0</td>\n",
              "      <td>255.0</td>\n",
              "      <td>255.0</td>\n",
              "      <td>...</td>\n",
              "      <td>255.0</td>\n",
              "      <td>255.0</td>\n",
              "      <td>255.0</td>\n",
              "      <td>255.0</td>\n",
              "      <td>255.0</td>\n",
              "      <td>255.0</td>\n",
              "      <td>255.0</td>\n",
              "      <td>255.0</td>\n",
              "      <td>255.0</td>\n",
              "      <td>255.0</td>\n",
              "    </tr>\n",
              "    <tr>\n",
              "      <th>4</th>\n",
              "      <td>255.0</td>\n",
              "      <td>255.0</td>\n",
              "      <td>255.0</td>\n",
              "      <td>255.0</td>\n",
              "      <td>255.0</td>\n",
              "      <td>255.0</td>\n",
              "      <td>255.0</td>\n",
              "      <td>255.0</td>\n",
              "      <td>255.0</td>\n",
              "      <td>255.0</td>\n",
              "      <td>...</td>\n",
              "      <td>255.0</td>\n",
              "      <td>255.0</td>\n",
              "      <td>255.0</td>\n",
              "      <td>255.0</td>\n",
              "      <td>255.0</td>\n",
              "      <td>255.0</td>\n",
              "      <td>255.0</td>\n",
              "      <td>255.0</td>\n",
              "      <td>255.0</td>\n",
              "      <td>255.0</td>\n",
              "    </tr>\n",
              "    <tr>\n",
              "      <th>...</th>\n",
              "      <td>...</td>\n",
              "      <td>...</td>\n",
              "      <td>...</td>\n",
              "      <td>...</td>\n",
              "      <td>...</td>\n",
              "      <td>...</td>\n",
              "      <td>...</td>\n",
              "      <td>...</td>\n",
              "      <td>...</td>\n",
              "      <td>...</td>\n",
              "      <td>...</td>\n",
              "      <td>...</td>\n",
              "      <td>...</td>\n",
              "      <td>...</td>\n",
              "      <td>...</td>\n",
              "      <td>...</td>\n",
              "      <td>...</td>\n",
              "      <td>...</td>\n",
              "      <td>...</td>\n",
              "      <td>...</td>\n",
              "      <td>...</td>\n",
              "    </tr>\n",
              "    <tr>\n",
              "      <th>63344</th>\n",
              "      <td>255.0</td>\n",
              "      <td>255.0</td>\n",
              "      <td>255.0</td>\n",
              "      <td>255.0</td>\n",
              "      <td>255.0</td>\n",
              "      <td>255.0</td>\n",
              "      <td>255.0</td>\n",
              "      <td>255.0</td>\n",
              "      <td>255.0</td>\n",
              "      <td>255.0</td>\n",
              "      <td>...</td>\n",
              "      <td>255.0</td>\n",
              "      <td>255.0</td>\n",
              "      <td>255.0</td>\n",
              "      <td>255.0</td>\n",
              "      <td>255.0</td>\n",
              "      <td>255.0</td>\n",
              "      <td>255.0</td>\n",
              "      <td>255.0</td>\n",
              "      <td>255.0</td>\n",
              "      <td>255.0</td>\n",
              "    </tr>\n",
              "    <tr>\n",
              "      <th>63345</th>\n",
              "      <td>255.0</td>\n",
              "      <td>255.0</td>\n",
              "      <td>255.0</td>\n",
              "      <td>255.0</td>\n",
              "      <td>255.0</td>\n",
              "      <td>255.0</td>\n",
              "      <td>255.0</td>\n",
              "      <td>255.0</td>\n",
              "      <td>255.0</td>\n",
              "      <td>255.0</td>\n",
              "      <td>...</td>\n",
              "      <td>255.0</td>\n",
              "      <td>255.0</td>\n",
              "      <td>255.0</td>\n",
              "      <td>255.0</td>\n",
              "      <td>255.0</td>\n",
              "      <td>255.0</td>\n",
              "      <td>255.0</td>\n",
              "      <td>255.0</td>\n",
              "      <td>255.0</td>\n",
              "      <td>255.0</td>\n",
              "    </tr>\n",
              "    <tr>\n",
              "      <th>63346</th>\n",
              "      <td>255.0</td>\n",
              "      <td>255.0</td>\n",
              "      <td>255.0</td>\n",
              "      <td>255.0</td>\n",
              "      <td>255.0</td>\n",
              "      <td>255.0</td>\n",
              "      <td>255.0</td>\n",
              "      <td>255.0</td>\n",
              "      <td>255.0</td>\n",
              "      <td>255.0</td>\n",
              "      <td>...</td>\n",
              "      <td>255.0</td>\n",
              "      <td>255.0</td>\n",
              "      <td>255.0</td>\n",
              "      <td>255.0</td>\n",
              "      <td>255.0</td>\n",
              "      <td>255.0</td>\n",
              "      <td>255.0</td>\n",
              "      <td>255.0</td>\n",
              "      <td>255.0</td>\n",
              "      <td>255.0</td>\n",
              "    </tr>\n",
              "    <tr>\n",
              "      <th>63347</th>\n",
              "      <td>255.0</td>\n",
              "      <td>255.0</td>\n",
              "      <td>255.0</td>\n",
              "      <td>255.0</td>\n",
              "      <td>255.0</td>\n",
              "      <td>255.0</td>\n",
              "      <td>255.0</td>\n",
              "      <td>255.0</td>\n",
              "      <td>255.0</td>\n",
              "      <td>255.0</td>\n",
              "      <td>...</td>\n",
              "      <td>255.0</td>\n",
              "      <td>255.0</td>\n",
              "      <td>255.0</td>\n",
              "      <td>255.0</td>\n",
              "      <td>255.0</td>\n",
              "      <td>255.0</td>\n",
              "      <td>255.0</td>\n",
              "      <td>255.0</td>\n",
              "      <td>255.0</td>\n",
              "      <td>255.0</td>\n",
              "    </tr>\n",
              "    <tr>\n",
              "      <th>63348</th>\n",
              "      <td>255.0</td>\n",
              "      <td>255.0</td>\n",
              "      <td>255.0</td>\n",
              "      <td>255.0</td>\n",
              "      <td>255.0</td>\n",
              "      <td>255.0</td>\n",
              "      <td>255.0</td>\n",
              "      <td>255.0</td>\n",
              "      <td>255.0</td>\n",
              "      <td>255.0</td>\n",
              "      <td>...</td>\n",
              "      <td>255.0</td>\n",
              "      <td>255.0</td>\n",
              "      <td>255.0</td>\n",
              "      <td>255.0</td>\n",
              "      <td>255.0</td>\n",
              "      <td>255.0</td>\n",
              "      <td>255.0</td>\n",
              "      <td>255.0</td>\n",
              "      <td>255.0</td>\n",
              "      <td>255.0</td>\n",
              "    </tr>\n",
              "  </tbody>\n",
              "</table>\n",
              "<p>63349 rows × 784 columns</p>\n",
              "</div>\n",
              "      <button class=\"colab-df-convert\" onclick=\"convertToInteractive('df-ce904b51-360f-4b36-bcee-76b3eea2f6f2')\"\n",
              "              title=\"Convert this dataframe to an interactive table.\"\n",
              "              style=\"display:none;\">\n",
              "        \n",
              "  <svg xmlns=\"http://www.w3.org/2000/svg\" height=\"24px\"viewBox=\"0 0 24 24\"\n",
              "       width=\"24px\">\n",
              "    <path d=\"M0 0h24v24H0V0z\" fill=\"none\"/>\n",
              "    <path d=\"M18.56 5.44l.94 2.06.94-2.06 2.06-.94-2.06-.94-.94-2.06-.94 2.06-2.06.94zm-11 1L8.5 8.5l.94-2.06 2.06-.94-2.06-.94L8.5 2.5l-.94 2.06-2.06.94zm10 10l.94 2.06.94-2.06 2.06-.94-2.06-.94-.94-2.06-.94 2.06-2.06.94z\"/><path d=\"M17.41 7.96l-1.37-1.37c-.4-.4-.92-.59-1.43-.59-.52 0-1.04.2-1.43.59L10.3 9.45l-7.72 7.72c-.78.78-.78 2.05 0 2.83L4 21.41c.39.39.9.59 1.41.59.51 0 1.02-.2 1.41-.59l7.78-7.78 2.81-2.81c.8-.78.8-2.07 0-2.86zM5.41 20L4 18.59l7.72-7.72 1.47 1.35L5.41 20z\"/>\n",
              "  </svg>\n",
              "      </button>\n",
              "      \n",
              "  <style>\n",
              "    .colab-df-container {\n",
              "      display:flex;\n",
              "      flex-wrap:wrap;\n",
              "      gap: 12px;\n",
              "    }\n",
              "\n",
              "    .colab-df-convert {\n",
              "      background-color: #E8F0FE;\n",
              "      border: none;\n",
              "      border-radius: 50%;\n",
              "      cursor: pointer;\n",
              "      display: none;\n",
              "      fill: #1967D2;\n",
              "      height: 32px;\n",
              "      padding: 0 0 0 0;\n",
              "      width: 32px;\n",
              "    }\n",
              "\n",
              "    .colab-df-convert:hover {\n",
              "      background-color: #E2EBFA;\n",
              "      box-shadow: 0px 1px 2px rgba(60, 64, 67, 0.3), 0px 1px 3px 1px rgba(60, 64, 67, 0.15);\n",
              "      fill: #174EA6;\n",
              "    }\n",
              "\n",
              "    [theme=dark] .colab-df-convert {\n",
              "      background-color: #3B4455;\n",
              "      fill: #D2E3FC;\n",
              "    }\n",
              "\n",
              "    [theme=dark] .colab-df-convert:hover {\n",
              "      background-color: #434B5C;\n",
              "      box-shadow: 0px 1px 3px 1px rgba(0, 0, 0, 0.15);\n",
              "      filter: drop-shadow(0px 1px 2px rgba(0, 0, 0, 0.3));\n",
              "      fill: #FFFFFF;\n",
              "    }\n",
              "  </style>\n",
              "\n",
              "      <script>\n",
              "        const buttonEl =\n",
              "          document.querySelector('#df-ce904b51-360f-4b36-bcee-76b3eea2f6f2 button.colab-df-convert');\n",
              "        buttonEl.style.display =\n",
              "          google.colab.kernel.accessAllowed ? 'block' : 'none';\n",
              "\n",
              "        async function convertToInteractive(key) {\n",
              "          const element = document.querySelector('#df-ce904b51-360f-4b36-bcee-76b3eea2f6f2');\n",
              "          const dataTable =\n",
              "            await google.colab.kernel.invokeFunction('convertToInteractive',\n",
              "                                                     [key], {});\n",
              "          if (!dataTable) return;\n",
              "\n",
              "          const docLinkHtml = 'Like what you see? Visit the ' +\n",
              "            '<a target=\"_blank\" href=https://colab.research.google.com/notebooks/data_table.ipynb>data table notebook</a>'\n",
              "            + ' to learn more about interactive tables.';\n",
              "          element.innerHTML = '';\n",
              "          dataTable['output_type'] = 'display_data';\n",
              "          await google.colab.output.renderOutput(dataTable, element);\n",
              "          const docLink = document.createElement('div');\n",
              "          docLink.innerHTML = docLinkHtml;\n",
              "          element.appendChild(docLink);\n",
              "        }\n",
              "      </script>\n",
              "    </div>\n",
              "  </div>\n",
              "  "
            ]
          },
          "metadata": {},
          "execution_count": 47
        }
      ],
      "source": [
        "# Stroing data and result in x and y respectively\n",
        "y = data['Label']\n",
        "X = data.drop('Label',axis = 1)"
      ]
    },
    {
      "cell_type": "code",
      "execution_count": null,
      "metadata": {
        "id": "HzvTmmSUTyfS",
        "colab": {
          "base_uri": "https://localhost:8080/"
        },
        "outputId": "53e7b3b9-faf2-4592-f7f4-8f90f1cf1741"
      },
      "outputs": [
        {
          "output_type": "stream",
          "name": "stdout",
          "text": [
            "Train data shape:  (63349, 28, 28)\n"
          ]
        }
      ],
      "source": [
        "train_x = X\n",
        "train_y = y\n",
        "train_x = np.reshape(train_x.values, (train_x.shape[0], 28,28))\n",
        "print(\"Train data shape: \", train_x.shape)"
      ]
    },
    {
      "cell_type": "code",
      "execution_count": null,
      "metadata": {
        "id": "l07ojXZFUWsf",
        "colab": {
          "base_uri": "https://localhost:8080/",
          "height": 593
        },
        "outputId": "0d9f65fe-f240-40ff-b2e5-1affac64993a"
      },
      "outputs": [
        {
          "output_type": "display_data",
          "data": {
            "text/plain": [
              "<Figure size 720x720 with 9 Axes>"
            ],
            "image/png": "[encoded data removed]"
          },
          "metadata": {
            "needs_background": "light"
          }
        }
      ],
      "source": [
        "# Plotting data\n",
        "shuff = shuffle(train_x[:])\n",
        "fig, ax = plt.subplots(3,3, figsize = (10,10))\n",
        "axes = ax.flatten()\n",
        "for i in range(9):\n",
        "    axes[i].imshow(np.reshape(shuff[i], (28,28)), cmap=\"Greys\")\n",
        "plt.show()"
      ]
    },
    {
      "cell_type": "code",
      "execution_count": null,
      "metadata": {
        "id": "hEsigjOWUZjn",
        "colab": {
          "base_uri": "https://localhost:8080/"
        },
        "outputId": "476c2d05-fd74-4f4e-d602-053a37ae8e1a"
      },
      "outputs": [
        {
          "output_type": "stream",
          "name": "stdout",
          "text": [
            "New shape of train data:  (63349, 28, 28, 1)\n"
          ]
        }
      ],
      "source": [
        "train_X = train_x.reshape(train_x.shape[0],train_x.shape[1],train_x.shape[2],1)\n",
        "print(\"New shape of train data: \", train_X.shape)"
      ]
    },
    {
      "cell_type": "code",
      "execution_count": null,
      "metadata": {
        "id": "86SLQ5UCfk-R",
        "colab": {
          "base_uri": "https://localhost:8080/"
        },
        "outputId": "90d61941-8683-4b59-bc5f-8736fab2ff60"
      },
      "outputs": [
        {
          "output_type": "execute_result",
          "data": {
            "text/plain": [
              "0    19\n",
              "1    23\n",
              "2    10\n",
              "3    22\n",
              "4    25\n",
              "Name: Label, dtype: int64"
            ]
          },
          "metadata": {},
          "execution_count": 56
        }
      ],
      "source": [
        "train_y.head(5)"
      ]
    },
    {
      "cell_type": "code",
      "execution_count": null,
      "metadata": {
        "id": "FHfG3wvJUdO3",
        "colab": {
          "base_uri": "https://localhost:8080/"
        },
        "outputId": "c0a6461b-02cd-4357-8692-93aee57d2184"
      },
      "outputs": [
        {
          "output_type": "stream",
          "name": "stdout",
          "text": [
            "New shape of train labels:  (63349, 26)\n"
          ]
        }
      ],
      "source": [
        "train_yOHE = to_categorical(train_y, num_classes = 26, dtype='int')\n",
        "print(\"New shape of train labels: \", train_yOHE.shape)"
      ]
    },
    {
      "cell_type": "code",
      "source": [
        "# Model\n",
        "model=Sequential()\n",
        "model.add(Conv2D(32, kernel_size = 3, activation='relu', input_shape = (28, 28, 1)))\n",
        "model.add(BatchNormalization())\n",
        "model.add(Conv2D(32, kernel_size = 3, activation='relu'))\n",
        "model.add(BatchNormalization())\n",
        "model.add(Conv2D(32, kernel_size = 5, strides=2, padding='same', activation='relu'))\n",
        "model.add(BatchNormalization())\n",
        "model.add(Dropout(0.4))\n",
        "\n",
        "model.add(Conv2D(64, kernel_size = 3, activation='relu'))\n",
        "model.add(BatchNormalization())\n",
        "model.add(Conv2D(64, kernel_size = 3, activation='relu'))\n",
        "model.add(BatchNormalization())\n",
        "model.add(Conv2D(64, kernel_size = 5, strides=2, padding='same', activation='relu'))\n",
        "model.add(BatchNormalization())\n",
        "model.add(Dropout(0.4))\n",
        "\n",
        "model.add(Conv2D(128, kernel_size = 4, activation='relu'))\n",
        "model.add(BatchNormalization())\n",
        "model.add(Flatten())\n",
        "model.add(Dropout(0.4))\n",
        "model.add(Dense(26, activation='softmax'))\n",
        "\n",
        "model.compile(optimizer='adam',loss='categorical_crossentropy',metrics=['accuracy'])"
      ],
      "metadata": {
        "id": "A69Ua8EiGXMH",
        "colab": {
          "base_uri": "https://localhost:8080/"
        },
        "outputId": "9d2ab15e-1f2e-43b0-aec1-b056c9ebcd4c"
      },
      "execution_count": null,
      "outputs": [
        {
          "output_type": "stream",
          "name": "stdout",
          "text": [
            "Model: \"sequential_1\"\n",
            "_________________________________________________________________\n",
            " Layer (type)                Output Shape              Param #   \n",
            "=================================================================\n",
            " conv2d_7 (Conv2D)           (None, 26, 26, 32)        320       \n",
            "                                                                 \n",
            " batch_normalization_7 (Batc  (None, 26, 26, 32)       128       \n",
            " hNormalization)                                                 \n",
            "                                                                 \n",
            " conv2d_8 (Conv2D)           (None, 24, 24, 32)        9248      \n",
            "                                                                 \n",
            " batch_normalization_8 (Batc  (None, 24, 24, 32)       128       \n",
            " hNormalization)                                                 \n",
            "                                                                 \n",
            " conv2d_9 (Conv2D)           (None, 12, 12, 32)        25632     \n",
            "                                                                 \n",
            " batch_normalization_9 (Batc  (None, 12, 12, 32)       128       \n",
            " hNormalization)                                                 \n",
            "                                                                 \n",
            " dropout_3 (Dropout)         (None, 12, 12, 32)        0         \n",
            "                                                                 \n",
            " conv2d_10 (Conv2D)          (None, 10, 10, 64)        18496     \n",
            "                                                                 \n",
            " batch_normalization_10 (Bat  (None, 10, 10, 64)       256       \n",
            " chNormalization)                                                \n",
            "                                                                 \n",
            " conv2d_11 (Conv2D)          (None, 8, 8, 64)          36928     \n",
            "                                                                 \n",
            " batch_normalization_11 (Bat  (None, 8, 8, 64)         256       \n",
            " chNormalization)                                                \n",
            "                                                                 \n",
            " conv2d_12 (Conv2D)          (None, 4, 4, 64)          102464    \n",
            "                                                                 \n",
            " batch_normalization_12 (Bat  (None, 4, 4, 64)         256       \n",
            " chNormalization)                                                \n",
            "                                                                 \n",
            " dropout_4 (Dropout)         (None, 4, 4, 64)          0         \n",
            "                                                                 \n",
            " conv2d_13 (Conv2D)          (None, 1, 1, 128)         131200    \n",
            "                                                                 \n",
            " batch_normalization_13 (Bat  (None, 1, 1, 128)        512       \n",
            " chNormalization)                                                \n",
            "                                                                 \n",
            " flatten_1 (Flatten)         (None, 128)               0         \n",
            "                                                                 \n",
            " dropout_5 (Dropout)         (None, 128)               0         \n",
            "                                                                 \n",
            " dense_1 (Dense)             (None, 26)                3354      \n",
            "                                                                 \n",
            "=================================================================\n",
            "Total params: 329,306\n",
            "Trainable params: 328,474\n",
            "Non-trainable params: 832\n",
            "_________________________________________________________________\n"
          ]
        }
      ]
    },
    {
      "cell_type": "code",
      "execution_count": null,
      "metadata": {
        "id": "-A_6CRvrUjVD",
        "colab": {
          "base_uri": "https://localhost:8080/"
        },
        "outputId": "01940ee6-ac5d-4ebb-fa49-70c3170279af"
      },
      "outputs": [
        {
          "output_type": "stream",
          "name": "stdout",
          "text": [
            "Epoch 1/30\n",
            "1980/1980 [==============================] - 31s 15ms/step - loss: 0.5044 - accuracy: 0.8610\n",
            "Epoch 2/30\n",
            "1980/1980 [==============================] - 26s 13ms/step - loss: 0.1856 - accuracy: 0.9498\n",
            "Epoch 3/30\n",
            "1980/1980 [==============================] - 26s 13ms/step - loss: 0.1517 - accuracy: 0.9592\n",
            "Epoch 4/30\n",
            "1980/1980 [==============================] - 26s 13ms/step - loss: 0.1337 - accuracy: 0.9650\n",
            "Epoch 5/30\n",
            "1980/1980 [==============================] - 26s 13ms/step - loss: 0.1193 - accuracy: 0.9685\n",
            "Epoch 6/30\n",
            "1980/1980 [==============================] - 26s 13ms/step - loss: 0.1081 - accuracy: 0.9720\n",
            "Epoch 7/30\n",
            "1980/1980 [==============================] - 27s 13ms/step - loss: 0.1015 - accuracy: 0.9737\n",
            "Epoch 8/30\n",
            "1980/1980 [==============================] - 27s 13ms/step - loss: 0.0947 - accuracy: 0.9753\n",
            "Epoch 9/30\n",
            "1980/1980 [==============================] - 26s 13ms/step - loss: 0.0896 - accuracy: 0.9772\n",
            "Epoch 10/30\n",
            "1980/1980 [==============================] - 26s 13ms/step - loss: 0.0841 - accuracy: 0.9784\n",
            "Epoch 11/30\n",
            "1980/1980 [==============================] - 26s 13ms/step - loss: 0.0787 - accuracy: 0.9796\n",
            "Epoch 12/30\n",
            "1980/1980 [==============================] - 26s 13ms/step - loss: 0.0766 - accuracy: 0.9800\n",
            "Epoch 13/30\n",
            "1980/1980 [==============================] - 26s 13ms/step - loss: 0.0726 - accuracy: 0.9808\n",
            "Epoch 14/30\n",
            "1980/1980 [==============================] - 26s 13ms/step - loss: 0.0694 - accuracy: 0.9820\n",
            "Epoch 15/30\n",
            "1980/1980 [==============================] - 26s 13ms/step - loss: 0.0682 - accuracy: 0.9820\n",
            "Epoch 16/30\n",
            "1980/1980 [==============================] - 26s 13ms/step - loss: 0.0647 - accuracy: 0.9828\n",
            "Epoch 17/30\n",
            "1980/1980 [==============================] - 26s 13ms/step - loss: 0.0629 - accuracy: 0.9831\n",
            "Epoch 18/30\n",
            "1980/1980 [==============================] - 26s 13ms/step - loss: 0.0607 - accuracy: 0.9837\n",
            "Epoch 19/30\n",
            "1980/1980 [==============================] - 26s 13ms/step - loss: 0.0593 - accuracy: 0.9842\n",
            "Epoch 20/30\n",
            "1980/1980 [==============================] - 26s 13ms/step - loss: 0.0572 - accuracy: 0.9848\n",
            "Epoch 21/30\n",
            "1980/1980 [==============================] - 26s 13ms/step - loss: 0.0566 - accuracy: 0.9849\n",
            "Epoch 22/30\n",
            "1980/1980 [==============================] - 26s 13ms/step - loss: 0.0531 - accuracy: 0.9855\n",
            "Epoch 23/30\n",
            "1980/1980 [==============================] - 26s 13ms/step - loss: 0.0532 - accuracy: 0.9857\n",
            "Epoch 24/30\n",
            "1980/1980 [==============================] - 26s 13ms/step - loss: 0.0522 - accuracy: 0.9854\n",
            "Epoch 25/30\n",
            "1980/1980 [==============================] - 26s 13ms/step - loss: 0.0504 - accuracy: 0.9862\n",
            "Epoch 26/30\n",
            "1980/1980 [==============================] - 26s 13ms/step - loss: 0.0485 - accuracy: 0.9865\n",
            "Epoch 27/30\n",
            "1980/1980 [==============================] - 26s 13ms/step - loss: 0.0482 - accuracy: 0.9863\n",
            "Epoch 28/30\n",
            "1980/1980 [==============================] - 26s 13ms/step - loss: 0.0469 - accuracy: 0.9869\n",
            "Epoch 29/30\n",
            "1980/1980 [==============================] - 26s 13ms/step - loss: 0.0457 - accuracy: 0.9869\n",
            "Epoch 30/30\n",
            "1980/1980 [==============================] - 26s 13ms/step - loss: 0.0454 - accuracy: 0.9873\n"
          ]
        }
      ],
      "source": [
        "# Model Training\n",
        "history = model.fit(train_X, train_yOHE, epochs=30)"
      ]
    },
    {
      "cell_type": "code",
      "execution_count": null,
      "metadata": {
        "id": "aRKWNXmgUnOy",
        "colab": {
          "base_uri": "https://localhost:8080/"
        },
        "outputId": "7d4dad82-5a59-45ba-e9c1-6fda737eeb85"
      },
      "outputs": [
        {
          "output_type": "stream",
          "name": "stdout",
          "text": [
            "Model: \"sequential_1\"\n",
            "_________________________________________________________________\n",
            " Layer (type)                Output Shape              Param #   \n",
            "=================================================================\n",
            " conv2d_7 (Conv2D)           (None, 26, 26, 32)        320       \n",
            "                                                                 \n",
            " batch_normalization_7 (Batc  (None, 26, 26, 32)       128       \n",
            " hNormalization)                                                 \n",
            "                                                                 \n",
            " conv2d_8 (Conv2D)           (None, 24, 24, 32)        9248      \n",
            "                                                                 \n",
            " batch_normalization_8 (Batc  (None, 24, 24, 32)       128       \n",
            " hNormalization)                                                 \n",
            "                                                                 \n",
            " conv2d_9 (Conv2D)           (None, 12, 12, 32)        25632     \n",
            "                                                                 \n",
            " batch_normalization_9 (Batc  (None, 12, 12, 32)       128       \n",
            " hNormalization)                                                 \n",
            "                                                                 \n",
            " dropout_3 (Dropout)         (None, 12, 12, 32)        0         \n",
            "                                                                 \n",
            " conv2d_10 (Conv2D)          (None, 10, 10, 64)        18496     \n",
            "                                                                 \n",
            " batch_normalization_10 (Bat  (None, 10, 10, 64)       256       \n",
            " chNormalization)                                                \n",
            "                                                                 \n",
            " conv2d_11 (Conv2D)          (None, 8, 8, 64)          36928     \n",
            "                                                                 \n",
            " batch_normalization_11 (Bat  (None, 8, 8, 64)         256       \n",
            " chNormalization)                                                \n",
            "                                                                 \n",
            " conv2d_12 (Conv2D)          (None, 4, 4, 64)          102464    \n",
            "                                                                 \n",
            " batch_normalization_12 (Bat  (None, 4, 4, 64)         256       \n",
            " chNormalization)                                                \n",
            "                                                                 \n",
            " dropout_4 (Dropout)         (None, 4, 4, 64)          0         \n",
            "                                                                 \n",
            " conv2d_13 (Conv2D)          (None, 1, 1, 128)         131200    \n",
            "                                                                 \n",
            " batch_normalization_13 (Bat  (None, 1, 1, 128)        512       \n",
            " chNormalization)                                                \n",
            "                                                                 \n",
            " flatten_1 (Flatten)         (None, 128)               0         \n",
            "                                                                 \n",
            " dropout_5 (Dropout)         (None, 128)               0         \n",
            "                                                                 \n",
            " dense_1 (Dense)             (None, 26)                3354      \n",
            "                                                                 \n",
            "=================================================================\n",
            "Total params: 329,306\n",
            "Trainable params: 328,474\n",
            "Non-trainable params: 832\n",
            "_________________________________________________________________\n"
          ]
        }
      ],
      "source": [
        "# Saving the Model\n",
        "model.summary() \n",
        "model.save(r'model.h5')"
      ]
    },
    {
      "cell_type": "code",
      "execution_count": null,
      "metadata": {
        "id": "s9PvM8yZUowu",
        "colab": {
          "base_uri": "https://localhost:8080/"
        },
        "outputId": "54de1570-1a3a-4231-fe87-43c5a1769638"
      },
      "outputs": [
        {
          "output_type": "stream",
          "name": "stdout",
          "text": [
            "The training accuracy is : [0.8609922528266907, 0.9498176574707031, 0.9591943025588989, 0.9649560451507568, 0.9684604406356812, 0.971980631351471, 0.9737012386322021, 0.9753271341323853, 0.977189838886261, 0.9784053564071655, 0.9796366095542908, 0.9800154566764832, 0.9807889461517334, 0.9819570779800415, 0.981972873210907, 0.9827937483787537, 0.9831410050392151, 0.9837092757225037, 0.984151303768158, 0.9848458766937256, 0.9849405884742737, 0.9854772686958313, 0.9857140779495239, 0.9854456782341003, 0.9861876368522644, 0.9865348935127258, 0.9863454699516296, 0.9868980050086975, 0.9869137406349182, 0.9873083829879761]\n",
            "The training loss is : [0.504442036151886, 0.1856319159269333, 0.15167340636253357, 0.13365881145000458, 0.11930288374423981, 0.10806269198656082, 0.10153697431087494, 0.0947011262178421, 0.08961794525384903, 0.08414848893880844, 0.078708715736866, 0.07655134797096252, 0.07261747121810913, 0.0694127306342125, 0.06823378056287766, 0.06469455361366272, 0.06294742971658707, 0.06068377196788788, 0.05933045223355293, 0.05718185752630234, 0.056625328958034515, 0.05312526598572731, 0.053233880549669266, 0.052212584763765335, 0.050389207899570465, 0.04846840724349022, 0.04823700338602066, 0.04693185165524483, 0.0456705167889595, 0.04542597010731697]\n"
          ]
        }
      ],
      "source": [
        "# Printing Model accuracy\n",
        "print(\"The training accuracy is :\", history.history['accuracy'])\n",
        "print(\"The training loss is :\", history.history['loss'])"
      ]
    }
  ],
  "metadata": {
    "colab": {
      "name": "Captcha Solver Model.ipynb",
      "provenance": [],
      "collapsed_sections": []
    },
    "kernelspec": {
      "display_name": "Python 3",
      "name": "python3"
    },
    "language_info": {
      "name": "python"
    },
    "accelerator": "GPU"
  },
  "nbformat": 4,
  "nbformat_minor": 0
}